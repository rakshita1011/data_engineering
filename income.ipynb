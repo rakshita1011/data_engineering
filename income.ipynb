{
  "nbformat": 4,
  "nbformat_minor": 0,
  "metadata": {
    "colab": {
      "provenance": []
    },
    "kernelspec": {
      "name": "python3",
      "display_name": "Python 3"
    },
    "language_info": {
      "name": "python"
    }
  },
  "cells": [
    {
      "cell_type": "code",
      "execution_count": 1,
      "metadata": {
        "id": "N0Oxbvq_gq1K"
      },
      "outputs": [],
      "source": [
        "import numpy as np\n",
        "import pandas as pd\n",
        "import matplotlib.pyplot as plt\n",
        "import seaborn as sns\n",
        "\n",
        "from sklearn.model_selection import train_test_split"
      ]
    },
    {
      "cell_type": "code",
      "source": [
        "df = pd.read_csv('adult.csv')\n",
        "df.head()"
      ],
      "metadata": {
        "colab": {
          "base_uri": "https://localhost:8080/",
          "height": 354
        },
        "id": "yt6Kl9jbg3dk",
        "outputId": "17ba44f5-c305-4eae-ee54-3d443d0a8399"
      },
      "execution_count": 2,
      "outputs": [
        {
          "output_type": "execute_result",
          "data": {
            "text/plain": [
              "   age  workclass  fnlwgt     education  educational-num      marital-status  \\\n",
              "0   25    Private  226802          11th                7       Never-married   \n",
              "1   38    Private   89814       HS-grad                9  Married-civ-spouse   \n",
              "2   28  Local-gov  336951    Assoc-acdm               12  Married-civ-spouse   \n",
              "3   44    Private  160323  Some-college               10  Married-civ-spouse   \n",
              "4   18          ?  103497  Some-college               10       Never-married   \n",
              "\n",
              "          occupation relationship   race  gender  capital-gain  capital-loss  \\\n",
              "0  Machine-op-inspct    Own-child  Black    Male             0             0   \n",
              "1    Farming-fishing      Husband  White    Male             0             0   \n",
              "2    Protective-serv      Husband  White    Male             0             0   \n",
              "3  Machine-op-inspct      Husband  Black    Male          7688             0   \n",
              "4                  ?    Own-child  White  Female             0             0   \n",
              "\n",
              "   hours-per-week native-country income  \n",
              "0              40  United-States  <=50K  \n",
              "1              50  United-States  <=50K  \n",
              "2              40  United-States   >50K  \n",
              "3              40  United-States   >50K  \n",
              "4              30  United-States  <=50K  "
            ],
            "text/html": [
              "\n",
              "  <div id=\"df-3deb2e9f-d018-4854-ad99-4325aa3b45c8\">\n",
              "    <div class=\"colab-df-container\">\n",
              "      <div>\n",
              "<style scoped>\n",
              "    .dataframe tbody tr th:only-of-type {\n",
              "        vertical-align: middle;\n",
              "    }\n",
              "\n",
              "    .dataframe tbody tr th {\n",
              "        vertical-align: top;\n",
              "    }\n",
              "\n",
              "    .dataframe thead th {\n",
              "        text-align: right;\n",
              "    }\n",
              "</style>\n",
              "<table border=\"1\" class=\"dataframe\">\n",
              "  <thead>\n",
              "    <tr style=\"text-align: right;\">\n",
              "      <th></th>\n",
              "      <th>age</th>\n",
              "      <th>workclass</th>\n",
              "      <th>fnlwgt</th>\n",
              "      <th>education</th>\n",
              "      <th>educational-num</th>\n",
              "      <th>marital-status</th>\n",
              "      <th>occupation</th>\n",
              "      <th>relationship</th>\n",
              "      <th>race</th>\n",
              "      <th>gender</th>\n",
              "      <th>capital-gain</th>\n",
              "      <th>capital-loss</th>\n",
              "      <th>hours-per-week</th>\n",
              "      <th>native-country</th>\n",
              "      <th>income</th>\n",
              "    </tr>\n",
              "  </thead>\n",
              "  <tbody>\n",
              "    <tr>\n",
              "      <th>0</th>\n",
              "      <td>25</td>\n",
              "      <td>Private</td>\n",
              "      <td>226802</td>\n",
              "      <td>11th</td>\n",
              "      <td>7</td>\n",
              "      <td>Never-married</td>\n",
              "      <td>Machine-op-inspct</td>\n",
              "      <td>Own-child</td>\n",
              "      <td>Black</td>\n",
              "      <td>Male</td>\n",
              "      <td>0</td>\n",
              "      <td>0</td>\n",
              "      <td>40</td>\n",
              "      <td>United-States</td>\n",
              "      <td>&lt;=50K</td>\n",
              "    </tr>\n",
              "    <tr>\n",
              "      <th>1</th>\n",
              "      <td>38</td>\n",
              "      <td>Private</td>\n",
              "      <td>89814</td>\n",
              "      <td>HS-grad</td>\n",
              "      <td>9</td>\n",
              "      <td>Married-civ-spouse</td>\n",
              "      <td>Farming-fishing</td>\n",
              "      <td>Husband</td>\n",
              "      <td>White</td>\n",
              "      <td>Male</td>\n",
              "      <td>0</td>\n",
              "      <td>0</td>\n",
              "      <td>50</td>\n",
              "      <td>United-States</td>\n",
              "      <td>&lt;=50K</td>\n",
              "    </tr>\n",
              "    <tr>\n",
              "      <th>2</th>\n",
              "      <td>28</td>\n",
              "      <td>Local-gov</td>\n",
              "      <td>336951</td>\n",
              "      <td>Assoc-acdm</td>\n",
              "      <td>12</td>\n",
              "      <td>Married-civ-spouse</td>\n",
              "      <td>Protective-serv</td>\n",
              "      <td>Husband</td>\n",
              "      <td>White</td>\n",
              "      <td>Male</td>\n",
              "      <td>0</td>\n",
              "      <td>0</td>\n",
              "      <td>40</td>\n",
              "      <td>United-States</td>\n",
              "      <td>&gt;50K</td>\n",
              "    </tr>\n",
              "    <tr>\n",
              "      <th>3</th>\n",
              "      <td>44</td>\n",
              "      <td>Private</td>\n",
              "      <td>160323</td>\n",
              "      <td>Some-college</td>\n",
              "      <td>10</td>\n",
              "      <td>Married-civ-spouse</td>\n",
              "      <td>Machine-op-inspct</td>\n",
              "      <td>Husband</td>\n",
              "      <td>Black</td>\n",
              "      <td>Male</td>\n",
              "      <td>7688</td>\n",
              "      <td>0</td>\n",
              "      <td>40</td>\n",
              "      <td>United-States</td>\n",
              "      <td>&gt;50K</td>\n",
              "    </tr>\n",
              "    <tr>\n",
              "      <th>4</th>\n",
              "      <td>18</td>\n",
              "      <td>?</td>\n",
              "      <td>103497</td>\n",
              "      <td>Some-college</td>\n",
              "      <td>10</td>\n",
              "      <td>Never-married</td>\n",
              "      <td>?</td>\n",
              "      <td>Own-child</td>\n",
              "      <td>White</td>\n",
              "      <td>Female</td>\n",
              "      <td>0</td>\n",
              "      <td>0</td>\n",
              "      <td>30</td>\n",
              "      <td>United-States</td>\n",
              "      <td>&lt;=50K</td>\n",
              "    </tr>\n",
              "  </tbody>\n",
              "</table>\n",
              "</div>\n",
              "      <button class=\"colab-df-convert\" onclick=\"convertToInteractive('df-3deb2e9f-d018-4854-ad99-4325aa3b45c8')\"\n",
              "              title=\"Convert this dataframe to an interactive table.\"\n",
              "              style=\"display:none;\">\n",
              "        \n",
              "  <svg xmlns=\"http://www.w3.org/2000/svg\" height=\"24px\"viewBox=\"0 0 24 24\"\n",
              "       width=\"24px\">\n",
              "    <path d=\"M0 0h24v24H0V0z\" fill=\"none\"/>\n",
              "    <path d=\"M18.56 5.44l.94 2.06.94-2.06 2.06-.94-2.06-.94-.94-2.06-.94 2.06-2.06.94zm-11 1L8.5 8.5l.94-2.06 2.06-.94-2.06-.94L8.5 2.5l-.94 2.06-2.06.94zm10 10l.94 2.06.94-2.06 2.06-.94-2.06-.94-.94-2.06-.94 2.06-2.06.94z\"/><path d=\"M17.41 7.96l-1.37-1.37c-.4-.4-.92-.59-1.43-.59-.52 0-1.04.2-1.43.59L10.3 9.45l-7.72 7.72c-.78.78-.78 2.05 0 2.83L4 21.41c.39.39.9.59 1.41.59.51 0 1.02-.2 1.41-.59l7.78-7.78 2.81-2.81c.8-.78.8-2.07 0-2.86zM5.41 20L4 18.59l7.72-7.72 1.47 1.35L5.41 20z\"/>\n",
              "  </svg>\n",
              "      </button>\n",
              "      \n",
              "  <style>\n",
              "    .colab-df-container {\n",
              "      display:flex;\n",
              "      flex-wrap:wrap;\n",
              "      gap: 12px;\n",
              "    }\n",
              "\n",
              "    .colab-df-convert {\n",
              "      background-color: #E8F0FE;\n",
              "      border: none;\n",
              "      border-radius: 50%;\n",
              "      cursor: pointer;\n",
              "      display: none;\n",
              "      fill: #1967D2;\n",
              "      height: 32px;\n",
              "      padding: 0 0 0 0;\n",
              "      width: 32px;\n",
              "    }\n",
              "\n",
              "    .colab-df-convert:hover {\n",
              "      background-color: #E2EBFA;\n",
              "      box-shadow: 0px 1px 2px rgba(60, 64, 67, 0.3), 0px 1px 3px 1px rgba(60, 64, 67, 0.15);\n",
              "      fill: #174EA6;\n",
              "    }\n",
              "\n",
              "    [theme=dark] .colab-df-convert {\n",
              "      background-color: #3B4455;\n",
              "      fill: #D2E3FC;\n",
              "    }\n",
              "\n",
              "    [theme=dark] .colab-df-convert:hover {\n",
              "      background-color: #434B5C;\n",
              "      box-shadow: 0px 1px 3px 1px rgba(0, 0, 0, 0.15);\n",
              "      filter: drop-shadow(0px 1px 2px rgba(0, 0, 0, 0.3));\n",
              "      fill: #FFFFFF;\n",
              "    }\n",
              "  </style>\n",
              "\n",
              "      <script>\n",
              "        const buttonEl =\n",
              "          document.querySelector('#df-3deb2e9f-d018-4854-ad99-4325aa3b45c8 button.colab-df-convert');\n",
              "        buttonEl.style.display =\n",
              "          google.colab.kernel.accessAllowed ? 'block' : 'none';\n",
              "\n",
              "        async function convertToInteractive(key) {\n",
              "          const element = document.querySelector('#df-3deb2e9f-d018-4854-ad99-4325aa3b45c8');\n",
              "          const dataTable =\n",
              "            await google.colab.kernel.invokeFunction('convertToInteractive',\n",
              "                                                     [key], {});\n",
              "          if (!dataTable) return;\n",
              "\n",
              "          const docLinkHtml = 'Like what you see? Visit the ' +\n",
              "            '<a target=\"_blank\" href=https://colab.research.google.com/notebooks/data_table.ipynb>data table notebook</a>'\n",
              "            + ' to learn more about interactive tables.';\n",
              "          element.innerHTML = '';\n",
              "          dataTable['output_type'] = 'display_data';\n",
              "          await google.colab.output.renderOutput(dataTable, element);\n",
              "          const docLink = document.createElement('div');\n",
              "          docLink.innerHTML = docLinkHtml;\n",
              "          element.appendChild(docLink);\n",
              "        }\n",
              "      </script>\n",
              "    </div>\n",
              "  </div>\n",
              "  "
            ]
          },
          "metadata": {},
          "execution_count": 2
        }
      ]
    },
    {
      "cell_type": "code",
      "source": [
        "df.columns"
      ],
      "metadata": {
        "colab": {
          "base_uri": "https://localhost:8080/"
        },
        "id": "GEcqBTYVhF_Z",
        "outputId": "65628bb1-c312-4b50-d5f3-4570322a2fd8"
      },
      "execution_count": 3,
      "outputs": [
        {
          "output_type": "execute_result",
          "data": {
            "text/plain": [
              "Index(['age', 'workclass', 'fnlwgt', 'education', 'educational-num',\n",
              "       'marital-status', 'occupation', 'relationship', 'race', 'gender',\n",
              "       'capital-gain', 'capital-loss', 'hours-per-week', 'native-country',\n",
              "       'income'],\n",
              "      dtype='object')"
            ]
          },
          "metadata": {},
          "execution_count": 3
        }
      ]
    },
    {
      "cell_type": "code",
      "source": [
        "df.info()"
      ],
      "metadata": {
        "colab": {
          "base_uri": "https://localhost:8080/"
        },
        "id": "cdHxJfKBhd0v",
        "outputId": "867d4de5-2d00-4b81-fa79-f488c89cd146"
      },
      "execution_count": 4,
      "outputs": [
        {
          "output_type": "stream",
          "name": "stdout",
          "text": [
            "<class 'pandas.core.frame.DataFrame'>\n",
            "RangeIndex: 48842 entries, 0 to 48841\n",
            "Data columns (total 15 columns):\n",
            " #   Column           Non-Null Count  Dtype \n",
            "---  ------           --------------  ----- \n",
            " 0   age              48842 non-null  int64 \n",
            " 1   workclass        48842 non-null  object\n",
            " 2   fnlwgt           48842 non-null  int64 \n",
            " 3   education        48842 non-null  object\n",
            " 4   educational-num  48842 non-null  int64 \n",
            " 5   marital-status   48842 non-null  object\n",
            " 6   occupation       48842 non-null  object\n",
            " 7   relationship     48842 non-null  object\n",
            " 8   race             48842 non-null  object\n",
            " 9   gender           48842 non-null  object\n",
            " 10  capital-gain     48842 non-null  int64 \n",
            " 11  capital-loss     48842 non-null  int64 \n",
            " 12  hours-per-week   48842 non-null  int64 \n",
            " 13  native-country   48842 non-null  object\n",
            " 14  income           48842 non-null  object\n",
            "dtypes: int64(6), object(9)\n",
            "memory usage: 5.6+ MB\n"
          ]
        }
      ]
    },
    {
      "cell_type": "code",
      "source": [
        "df.describe().T"
      ],
      "metadata": {
        "colab": {
          "base_uri": "https://localhost:8080/",
          "height": 237
        },
        "id": "clOmvNJahIOb",
        "outputId": "2008f45a-b41f-40eb-922e-b4c9075d1633"
      },
      "execution_count": 5,
      "outputs": [
        {
          "output_type": "execute_result",
          "data": {
            "text/plain": [
              "                   count           mean            std      min       25%  \\\n",
              "age              48842.0      38.643585      13.710510     17.0      28.0   \n",
              "fnlwgt           48842.0  189664.134597  105604.025423  12285.0  117550.5   \n",
              "educational-num  48842.0      10.078089       2.570973      1.0       9.0   \n",
              "capital-gain     48842.0    1079.067626    7452.019058      0.0       0.0   \n",
              "capital-loss     48842.0      87.502314     403.004552      0.0       0.0   \n",
              "hours-per-week   48842.0      40.422382      12.391444      1.0      40.0   \n",
              "\n",
              "                      50%       75%        max  \n",
              "age                  37.0      48.0       90.0  \n",
              "fnlwgt           178144.5  237642.0  1490400.0  \n",
              "educational-num      10.0      12.0       16.0  \n",
              "capital-gain          0.0       0.0    99999.0  \n",
              "capital-loss          0.0       0.0     4356.0  \n",
              "hours-per-week       40.0      45.0       99.0  "
            ],
            "text/html": [
              "\n",
              "  <div id=\"df-62bbd842-b5db-4a83-825e-3906d678a390\">\n",
              "    <div class=\"colab-df-container\">\n",
              "      <div>\n",
              "<style scoped>\n",
              "    .dataframe tbody tr th:only-of-type {\n",
              "        vertical-align: middle;\n",
              "    }\n",
              "\n",
              "    .dataframe tbody tr th {\n",
              "        vertical-align: top;\n",
              "    }\n",
              "\n",
              "    .dataframe thead th {\n",
              "        text-align: right;\n",
              "    }\n",
              "</style>\n",
              "<table border=\"1\" class=\"dataframe\">\n",
              "  <thead>\n",
              "    <tr style=\"text-align: right;\">\n",
              "      <th></th>\n",
              "      <th>count</th>\n",
              "      <th>mean</th>\n",
              "      <th>std</th>\n",
              "      <th>min</th>\n",
              "      <th>25%</th>\n",
              "      <th>50%</th>\n",
              "      <th>75%</th>\n",
              "      <th>max</th>\n",
              "    </tr>\n",
              "  </thead>\n",
              "  <tbody>\n",
              "    <tr>\n",
              "      <th>age</th>\n",
              "      <td>48842.0</td>\n",
              "      <td>38.643585</td>\n",
              "      <td>13.710510</td>\n",
              "      <td>17.0</td>\n",
              "      <td>28.0</td>\n",
              "      <td>37.0</td>\n",
              "      <td>48.0</td>\n",
              "      <td>90.0</td>\n",
              "    </tr>\n",
              "    <tr>\n",
              "      <th>fnlwgt</th>\n",
              "      <td>48842.0</td>\n",
              "      <td>189664.134597</td>\n",
              "      <td>105604.025423</td>\n",
              "      <td>12285.0</td>\n",
              "      <td>117550.5</td>\n",
              "      <td>178144.5</td>\n",
              "      <td>237642.0</td>\n",
              "      <td>1490400.0</td>\n",
              "    </tr>\n",
              "    <tr>\n",
              "      <th>educational-num</th>\n",
              "      <td>48842.0</td>\n",
              "      <td>10.078089</td>\n",
              "      <td>2.570973</td>\n",
              "      <td>1.0</td>\n",
              "      <td>9.0</td>\n",
              "      <td>10.0</td>\n",
              "      <td>12.0</td>\n",
              "      <td>16.0</td>\n",
              "    </tr>\n",
              "    <tr>\n",
              "      <th>capital-gain</th>\n",
              "      <td>48842.0</td>\n",
              "      <td>1079.067626</td>\n",
              "      <td>7452.019058</td>\n",
              "      <td>0.0</td>\n",
              "      <td>0.0</td>\n",
              "      <td>0.0</td>\n",
              "      <td>0.0</td>\n",
              "      <td>99999.0</td>\n",
              "    </tr>\n",
              "    <tr>\n",
              "      <th>capital-loss</th>\n",
              "      <td>48842.0</td>\n",
              "      <td>87.502314</td>\n",
              "      <td>403.004552</td>\n",
              "      <td>0.0</td>\n",
              "      <td>0.0</td>\n",
              "      <td>0.0</td>\n",
              "      <td>0.0</td>\n",
              "      <td>4356.0</td>\n",
              "    </tr>\n",
              "    <tr>\n",
              "      <th>hours-per-week</th>\n",
              "      <td>48842.0</td>\n",
              "      <td>40.422382</td>\n",
              "      <td>12.391444</td>\n",
              "      <td>1.0</td>\n",
              "      <td>40.0</td>\n",
              "      <td>40.0</td>\n",
              "      <td>45.0</td>\n",
              "      <td>99.0</td>\n",
              "    </tr>\n",
              "  </tbody>\n",
              "</table>\n",
              "</div>\n",
              "      <button class=\"colab-df-convert\" onclick=\"convertToInteractive('df-62bbd842-b5db-4a83-825e-3906d678a390')\"\n",
              "              title=\"Convert this dataframe to an interactive table.\"\n",
              "              style=\"display:none;\">\n",
              "        \n",
              "  <svg xmlns=\"http://www.w3.org/2000/svg\" height=\"24px\"viewBox=\"0 0 24 24\"\n",
              "       width=\"24px\">\n",
              "    <path d=\"M0 0h24v24H0V0z\" fill=\"none\"/>\n",
              "    <path d=\"M18.56 5.44l.94 2.06.94-2.06 2.06-.94-2.06-.94-.94-2.06-.94 2.06-2.06.94zm-11 1L8.5 8.5l.94-2.06 2.06-.94-2.06-.94L8.5 2.5l-.94 2.06-2.06.94zm10 10l.94 2.06.94-2.06 2.06-.94-2.06-.94-.94-2.06-.94 2.06-2.06.94z\"/><path d=\"M17.41 7.96l-1.37-1.37c-.4-.4-.92-.59-1.43-.59-.52 0-1.04.2-1.43.59L10.3 9.45l-7.72 7.72c-.78.78-.78 2.05 0 2.83L4 21.41c.39.39.9.59 1.41.59.51 0 1.02-.2 1.41-.59l7.78-7.78 2.81-2.81c.8-.78.8-2.07 0-2.86zM5.41 20L4 18.59l7.72-7.72 1.47 1.35L5.41 20z\"/>\n",
              "  </svg>\n",
              "      </button>\n",
              "      \n",
              "  <style>\n",
              "    .colab-df-container {\n",
              "      display:flex;\n",
              "      flex-wrap:wrap;\n",
              "      gap: 12px;\n",
              "    }\n",
              "\n",
              "    .colab-df-convert {\n",
              "      background-color: #E8F0FE;\n",
              "      border: none;\n",
              "      border-radius: 50%;\n",
              "      cursor: pointer;\n",
              "      display: none;\n",
              "      fill: #1967D2;\n",
              "      height: 32px;\n",
              "      padding: 0 0 0 0;\n",
              "      width: 32px;\n",
              "    }\n",
              "\n",
              "    .colab-df-convert:hover {\n",
              "      background-color: #E2EBFA;\n",
              "      box-shadow: 0px 1px 2px rgba(60, 64, 67, 0.3), 0px 1px 3px 1px rgba(60, 64, 67, 0.15);\n",
              "      fill: #174EA6;\n",
              "    }\n",
              "\n",
              "    [theme=dark] .colab-df-convert {\n",
              "      background-color: #3B4455;\n",
              "      fill: #D2E3FC;\n",
              "    }\n",
              "\n",
              "    [theme=dark] .colab-df-convert:hover {\n",
              "      background-color: #434B5C;\n",
              "      box-shadow: 0px 1px 3px 1px rgba(0, 0, 0, 0.15);\n",
              "      filter: drop-shadow(0px 1px 2px rgba(0, 0, 0, 0.3));\n",
              "      fill: #FFFFFF;\n",
              "    }\n",
              "  </style>\n",
              "\n",
              "      <script>\n",
              "        const buttonEl =\n",
              "          document.querySelector('#df-62bbd842-b5db-4a83-825e-3906d678a390 button.colab-df-convert');\n",
              "        buttonEl.style.display =\n",
              "          google.colab.kernel.accessAllowed ? 'block' : 'none';\n",
              "\n",
              "        async function convertToInteractive(key) {\n",
              "          const element = document.querySelector('#df-62bbd842-b5db-4a83-825e-3906d678a390');\n",
              "          const dataTable =\n",
              "            await google.colab.kernel.invokeFunction('convertToInteractive',\n",
              "                                                     [key], {});\n",
              "          if (!dataTable) return;\n",
              "\n",
              "          const docLinkHtml = 'Like what you see? Visit the ' +\n",
              "            '<a target=\"_blank\" href=https://colab.research.google.com/notebooks/data_table.ipynb>data table notebook</a>'\n",
              "            + ' to learn more about interactive tables.';\n",
              "          element.innerHTML = '';\n",
              "          dataTable['output_type'] = 'display_data';\n",
              "          await google.colab.output.renderOutput(dataTable, element);\n",
              "          const docLink = document.createElement('div');\n",
              "          docLink.innerHTML = docLinkHtml;\n",
              "          element.appendChild(docLink);\n",
              "        }\n",
              "      </script>\n",
              "    </div>\n",
              "  </div>\n",
              "  "
            ]
          },
          "metadata": {},
          "execution_count": 5
        }
      ]
    },
    {
      "cell_type": "code",
      "source": [
        "df=df.drop_duplicates()"
      ],
      "metadata": {
        "id": "SJSeA7FYhn6a"
      },
      "execution_count": 6,
      "outputs": []
    },
    {
      "cell_type": "code",
      "source": [
        "df=df.drop(\"fnlwgt\",axis=1)"
      ],
      "metadata": {
        "id": "9pdWy77Pht3T"
      },
      "execution_count": 7,
      "outputs": []
    },
    {
      "cell_type": "code",
      "source": [
        "df.isnull().sum()"
      ],
      "metadata": {
        "colab": {
          "base_uri": "https://localhost:8080/"
        },
        "id": "NlMM3UEPh7MQ",
        "outputId": "8bdde3f0-67ff-44fb-8650-485f3cfd9610"
      },
      "execution_count": 9,
      "outputs": [
        {
          "output_type": "execute_result",
          "data": {
            "text/plain": [
              "age                0\n",
              "workclass          0\n",
              "education          0\n",
              "educational-num    0\n",
              "marital-status     0\n",
              "occupation         0\n",
              "relationship       0\n",
              "race               0\n",
              "gender             0\n",
              "capital-gain       0\n",
              "capital-loss       0\n",
              "hours-per-week     0\n",
              "native-country     0\n",
              "income             0\n",
              "dtype: int64"
            ]
          },
          "metadata": {},
          "execution_count": 9
        }
      ]
    },
    {
      "cell_type": "code",
      "source": [
        "df['workclass'].value_counts()"
      ],
      "metadata": {
        "colab": {
          "base_uri": "https://localhost:8080/"
        },
        "id": "puE3P-o7iGkF",
        "outputId": "281eeccc-9cbb-4574-8bd1-372a803a516c"
      },
      "execution_count": 11,
      "outputs": [
        {
          "output_type": "execute_result",
          "data": {
            "text/plain": [
              "Private             33860\n",
              "Self-emp-not-inc     3861\n",
              "Local-gov            3136\n",
              "?                    2795\n",
              "State-gov            1981\n",
              "Self-emp-inc         1694\n",
              "Federal-gov          1432\n",
              "Without-pay            21\n",
              "Never-worked           10\n",
              "Name: workclass, dtype: int64"
            ]
          },
          "metadata": {},
          "execution_count": 11
        }
      ]
    },
    {
      "cell_type": "code",
      "source": [
        "df['workclass']=df['workclass'].replace(\"?\",\"Null\")"
      ],
      "metadata": {
        "id": "xncIaZ8XiR41"
      },
      "execution_count": 12,
      "outputs": []
    },
    {
      "cell_type": "code",
      "source": [
        "df['workclass'].value_counts()"
      ],
      "metadata": {
        "colab": {
          "base_uri": "https://localhost:8080/"
        },
        "id": "3rcDibcBiX7g",
        "outputId": "9b11ab03-e0d1-4f70-ebef-83f1529e0fc3"
      },
      "execution_count": 13,
      "outputs": [
        {
          "output_type": "execute_result",
          "data": {
            "text/plain": [
              "Private             33860\n",
              "Self-emp-not-inc     3861\n",
              "Local-gov            3136\n",
              "Null                 2795\n",
              "State-gov            1981\n",
              "Self-emp-inc         1694\n",
              "Federal-gov          1432\n",
              "Without-pay            21\n",
              "Never-worked           10\n",
              "Name: workclass, dtype: int64"
            ]
          },
          "metadata": {},
          "execution_count": 13
        }
      ]
    },
    {
      "cell_type": "code",
      "source": [
        "from sklearn import preprocessing\n",
        "label_encoder = preprocessing.LabelEncoder()"
      ],
      "metadata": {
        "id": "BRLthet2ibQ9"
      },
      "execution_count": 14,
      "outputs": []
    },
    {
      "cell_type": "code",
      "source": [
        "df['workclass'] = label_encoder.fit_transform(df['workclass']) "
      ],
      "metadata": {
        "id": "gk7r2s24iiU_"
      },
      "execution_count": 15,
      "outputs": []
    },
    {
      "cell_type": "code",
      "source": [
        "df['workclass'].value_counts()"
      ],
      "metadata": {
        "colab": {
          "base_uri": "https://localhost:8080/"
        },
        "id": "UdqMJJgYilM1",
        "outputId": "ffdb43d5-263e-4205-f135-82acf1e66278"
      },
      "execution_count": 16,
      "outputs": [
        {
          "output_type": "execute_result",
          "data": {
            "text/plain": [
              "4    33860\n",
              "6     3861\n",
              "1     3136\n",
              "3     2795\n",
              "7     1981\n",
              "5     1694\n",
              "0     1432\n",
              "8       21\n",
              "2       10\n",
              "Name: workclass, dtype: int64"
            ]
          },
          "metadata": {},
          "execution_count": 16
        }
      ]
    },
    {
      "cell_type": "code",
      "source": [
        "df['education'].value_counts()"
      ],
      "metadata": {
        "colab": {
          "base_uri": "https://localhost:8080/"
        },
        "id": "otMvc7bdixy1",
        "outputId": "86f583c5-624b-4b97-f839-e7eac7d1fe85"
      },
      "execution_count": 17,
      "outputs": [
        {
          "output_type": "execute_result",
          "data": {
            "text/plain": [
              "HS-grad         15770\n",
              "Some-college    10863\n",
              "Bachelors        8013\n",
              "Masters          2656\n",
              "Assoc-voc        2060\n",
              "11th             1812\n",
              "Assoc-acdm       1601\n",
              "10th             1389\n",
              "7th-8th           954\n",
              "Prof-school       834\n",
              "9th               756\n",
              "12th              655\n",
              "Doctorate         594\n",
              "5th-6th           507\n",
              "1st-4th           245\n",
              "Preschool          81\n",
              "Name: education, dtype: int64"
            ]
          },
          "metadata": {},
          "execution_count": 17
        }
      ]
    },
    {
      "cell_type": "code",
      "source": [
        "df['education'] = label_encoder.fit_transform(df['education']) \n",
        "df['education'].value_counts()"
      ],
      "metadata": {
        "colab": {
          "base_uri": "https://localhost:8080/"
        },
        "id": "aC8Hcq7Li6l2",
        "outputId": "d845c14d-4d5d-456d-8542-17b660ff9a5e"
      },
      "execution_count": 18,
      "outputs": [
        {
          "output_type": "execute_result",
          "data": {
            "text/plain": [
              "11    15770\n",
              "15    10863\n",
              "9      8013\n",
              "12     2656\n",
              "8      2060\n",
              "1      1812\n",
              "7      1601\n",
              "0      1389\n",
              "5       954\n",
              "14      834\n",
              "6       756\n",
              "2       655\n",
              "10      594\n",
              "4       507\n",
              "3       245\n",
              "13       81\n",
              "Name: education, dtype: int64"
            ]
          },
          "metadata": {},
          "execution_count": 18
        }
      ]
    },
    {
      "cell_type": "code",
      "source": [
        "df['marital-status'].value_counts()"
      ],
      "metadata": {
        "colab": {
          "base_uri": "https://localhost:8080/"
        },
        "id": "FFqviSLwjK4e",
        "outputId": "0c2d6616-cee2-43bb-bebf-9d4b4f889981"
      },
      "execution_count": 19,
      "outputs": [
        {
          "output_type": "execute_result",
          "data": {
            "text/plain": [
              "Married-civ-spouse       22366\n",
              "Never-married            16082\n",
              "Divorced                  6630\n",
              "Separated                 1530\n",
              "Widowed                   1518\n",
              "Married-spouse-absent      627\n",
              "Married-AF-spouse           37\n",
              "Name: marital-status, dtype: int64"
            ]
          },
          "metadata": {},
          "execution_count": 19
        }
      ]
    },
    {
      "cell_type": "code",
      "source": [
        "df['marital-status'] = label_encoder.fit_transform(df['marital-status']) \n",
        "df['marital-status'].value_counts()"
      ],
      "metadata": {
        "colab": {
          "base_uri": "https://localhost:8080/"
        },
        "id": "0lwTfwtnjVFl",
        "outputId": "dc6cd2d1-f962-4e48-93ff-fb64601c01c4"
      },
      "execution_count": 20,
      "outputs": [
        {
          "output_type": "execute_result",
          "data": {
            "text/plain": [
              "2    22366\n",
              "4    16082\n",
              "0     6630\n",
              "5     1530\n",
              "6     1518\n",
              "3      627\n",
              "1       37\n",
              "Name: marital-status, dtype: int64"
            ]
          },
          "metadata": {},
          "execution_count": 20
        }
      ]
    },
    {
      "cell_type": "code",
      "source": [
        "df['occupation'].value_counts()"
      ],
      "metadata": {
        "colab": {
          "base_uri": "https://localhost:8080/"
        },
        "id": "Jgokut4BjbFd",
        "outputId": "1721d261-7720-43c6-c642-b6570bd04873"
      },
      "execution_count": 21,
      "outputs": [
        {
          "output_type": "execute_result",
          "data": {
            "text/plain": [
              "Prof-specialty       6165\n",
              "Craft-repair         6102\n",
              "Exec-managerial      6082\n",
              "Adm-clerical         5606\n",
              "Sales                5501\n",
              "Other-service        4919\n",
              "Machine-op-inspct    3017\n",
              "?                    2805\n",
              "Transport-moving     2355\n",
              "Handlers-cleaners    2071\n",
              "Farming-fishing      1485\n",
              "Tech-support         1445\n",
              "Protective-serv       982\n",
              "Priv-house-serv       240\n",
              "Armed-Forces           15\n",
              "Name: occupation, dtype: int64"
            ]
          },
          "metadata": {},
          "execution_count": 21
        }
      ]
    },
    {
      "cell_type": "code",
      "source": [
        "df['ocupation']=df['occupation'].replace(\"?\",\"Null\")"
      ],
      "metadata": {
        "id": "UYp-XypDjlyX"
      },
      "execution_count": 24,
      "outputs": []
    },
    {
      "cell_type": "code",
      "source": [
        "df['occupation'] = label_encoder.fit_transform(df['occupation']) \n",
        "df['occupation'].value_counts()"
      ],
      "metadata": {
        "colab": {
          "base_uri": "https://localhost:8080/"
        },
        "id": "yy0VWVbCjyyP",
        "outputId": "0ba858d3-8ac6-410e-9f31-6da25d534469"
      },
      "execution_count": 26,
      "outputs": [
        {
          "output_type": "execute_result",
          "data": {
            "text/plain": [
              "10    6165\n",
              "3     6102\n",
              "4     6082\n",
              "1     5606\n",
              "12    5501\n",
              "8     4919\n",
              "7     3017\n",
              "0     2805\n",
              "14    2355\n",
              "6     2071\n",
              "5     1485\n",
              "13    1445\n",
              "11     982\n",
              "9      240\n",
              "2       15\n",
              "Name: occupation, dtype: int64"
            ]
          },
          "metadata": {},
          "execution_count": 26
        }
      ]
    },
    {
      "cell_type": "code",
      "source": [
        "df['relationship'].value_counts()"
      ],
      "metadata": {
        "colab": {
          "base_uri": "https://localhost:8080/"
        },
        "id": "l7hSnPGwkKym",
        "outputId": "7757cde9-e309-4869-e164-cc2ae6a3729c"
      },
      "execution_count": 27,
      "outputs": [
        {
          "output_type": "execute_result",
          "data": {
            "text/plain": [
              "Husband           19703\n",
              "Not-in-family     12557\n",
              "Own-child          7569\n",
              "Unmarried          5124\n",
              "Wife               2331\n",
              "Other-relative     1506\n",
              "Name: relationship, dtype: int64"
            ]
          },
          "metadata": {},
          "execution_count": 27
        }
      ]
    },
    {
      "cell_type": "code",
      "source": [
        "df['relationship'] = label_encoder.fit_transform(df['relationship']) \n",
        "df['relationship'].value_counts()"
      ],
      "metadata": {
        "colab": {
          "base_uri": "https://localhost:8080/"
        },
        "id": "3H7R76e8kSI9",
        "outputId": "d0df2b28-e9ec-4e5f-8872-cb1659b97b2b"
      },
      "execution_count": 28,
      "outputs": [
        {
          "output_type": "execute_result",
          "data": {
            "text/plain": [
              "0    19703\n",
              "1    12557\n",
              "3     7569\n",
              "4     5124\n",
              "5     2331\n",
              "2     1506\n",
              "Name: relationship, dtype: int64"
            ]
          },
          "metadata": {},
          "execution_count": 28
        }
      ]
    },
    {
      "cell_type": "code",
      "source": [
        "df[\"race\"].value_counts()"
      ],
      "metadata": {
        "colab": {
          "base_uri": "https://localhost:8080/"
        },
        "id": "ct80BauTkdUt",
        "outputId": "01597d91-9819-4775-e0b2-8490b83734fe"
      },
      "execution_count": 29,
      "outputs": [
        {
          "output_type": "execute_result",
          "data": {
            "text/plain": [
              "White                 41714\n",
              "Black                  4683\n",
              "Asian-Pac-Islander     1517\n",
              "Amer-Indian-Eskimo      470\n",
              "Other                   406\n",
              "Name: race, dtype: int64"
            ]
          },
          "metadata": {},
          "execution_count": 29
        }
      ]
    },
    {
      "cell_type": "code",
      "source": [
        "df['race'] = label_encoder.fit_transform(df['race']) \n",
        "df['race'].value_counts()"
      ],
      "metadata": {
        "colab": {
          "base_uri": "https://localhost:8080/"
        },
        "id": "-oH5tVoMkhUN",
        "outputId": "1afb9d49-f71f-41a8-d06b-39a98a49669c"
      },
      "execution_count": 30,
      "outputs": [
        {
          "output_type": "execute_result",
          "data": {
            "text/plain": [
              "4    41714\n",
              "2     4683\n",
              "1     1517\n",
              "0      470\n",
              "3      406\n",
              "Name: race, dtype: int64"
            ]
          },
          "metadata": {},
          "execution_count": 30
        }
      ]
    },
    {
      "cell_type": "code",
      "source": [
        "df['gender'].value_counts()"
      ],
      "metadata": {
        "colab": {
          "base_uri": "https://localhost:8080/"
        },
        "id": "NeIpoGluk6L1",
        "outputId": "e1196a9b-3e12-4aaf-dd73-c0c0c698895e"
      },
      "execution_count": 31,
      "outputs": [
        {
          "output_type": "execute_result",
          "data": {
            "text/plain": [
              "Male      32614\n",
              "Female    16176\n",
              "Name: gender, dtype: int64"
            ]
          },
          "metadata": {},
          "execution_count": 31
        }
      ]
    },
    {
      "cell_type": "code",
      "source": [
        "df['gender'] = label_encoder.fit_transform(df['gender']) \n",
        "df['gender'].value_counts()"
      ],
      "metadata": {
        "colab": {
          "base_uri": "https://localhost:8080/"
        },
        "id": "dpsCndpFk_4w",
        "outputId": "aa7ad06a-3453-4584-c727-db0cff29f9ee"
      },
      "execution_count": 32,
      "outputs": [
        {
          "output_type": "execute_result",
          "data": {
            "text/plain": [
              "1    32614\n",
              "0    16176\n",
              "Name: gender, dtype: int64"
            ]
          },
          "metadata": {},
          "execution_count": 32
        }
      ]
    },
    {
      "cell_type": "code",
      "source": [
        "df['native-country'].value_counts()"
      ],
      "metadata": {
        "colab": {
          "base_uri": "https://localhost:8080/"
        },
        "id": "kocWowPilF6O",
        "outputId": "fcfa1435-26c0-44f0-d0e5-9499d607749e"
      },
      "execution_count": 33,
      "outputs": [
        {
          "output_type": "execute_result",
          "data": {
            "text/plain": [
              "United-States                 43792\n",
              "Mexico                          943\n",
              "?                               856\n",
              "Philippines                     294\n",
              "Germany                         206\n",
              "Puerto-Rico                     184\n",
              "Canada                          182\n",
              "El-Salvador                     155\n",
              "India                           151\n",
              "Cuba                            138\n",
              "England                         127\n",
              "China                           122\n",
              "South                           115\n",
              "Jamaica                         106\n",
              "Italy                           105\n",
              "Dominican-Republic              103\n",
              "Japan                            92\n",
              "Poland                           87\n",
              "Guatemala                        86\n",
              "Vietnam                          86\n",
              "Columbia                         85\n",
              "Haiti                            75\n",
              "Portugal                         67\n",
              "Taiwan                           65\n",
              "Iran                             59\n",
              "Greece                           49\n",
              "Nicaragua                        49\n",
              "Peru                             46\n",
              "Ecuador                          45\n",
              "France                           38\n",
              "Ireland                          37\n",
              "Hong                             30\n",
              "Thailand                         30\n",
              "Cambodia                         28\n",
              "Trinadad&Tobago                  27\n",
              "Laos                             23\n",
              "Yugoslavia                       23\n",
              "Outlying-US(Guam-USVI-etc)       23\n",
              "Scotland                         21\n",
              "Honduras                         20\n",
              "Hungary                          19\n",
              "Holand-Netherlands                1\n",
              "Name: native-country, dtype: int64"
            ]
          },
          "metadata": {},
          "execution_count": 33
        }
      ]
    },
    {
      "cell_type": "code",
      "source": [
        "df['native-country']=df['native-country'].replace(\"?\",\"Null\")"
      ],
      "metadata": {
        "id": "OTC495L8lTDm"
      },
      "execution_count": 34,
      "outputs": []
    },
    {
      "cell_type": "code",
      "source": [
        "df['native-country'] = label_encoder.fit_transform(df['native-country']) \n",
        "df['native-country'].value_counts()"
      ],
      "metadata": {
        "colab": {
          "base_uri": "https://localhost:8080/"
        },
        "id": "7VPw3TJLlYUm",
        "outputId": "2b518dc4-5e82-4852-8435-94860c433377"
      },
      "execution_count": 35,
      "outputs": [
        {
          "output_type": "execute_result",
          "data": {
            "text/plain": [
              "39    43792\n",
              "25      943\n",
              "27      856\n",
              "30      294\n",
              "10      206\n",
              "33      184\n",
              "1       182\n",
              "7       155\n",
              "18      151\n",
              "4       138\n",
              "8       127\n",
              "2       122\n",
              "35      115\n",
              "22      106\n",
              "21      105\n",
              "5       103\n",
              "23       92\n",
              "31       87\n",
              "12       86\n",
              "40       86\n",
              "3        85\n",
              "13       75\n",
              "32       67\n",
              "36       65\n",
              "19       59\n",
              "11       49\n",
              "26       49\n",
              "29       46\n",
              "6        45\n",
              "9        38\n",
              "20       37\n",
              "16       30\n",
              "37       30\n",
              "0        28\n",
              "38       27\n",
              "24       23\n",
              "41       23\n",
              "28       23\n",
              "34       21\n",
              "15       20\n",
              "17       19\n",
              "14        1\n",
              "Name: native-country, dtype: int64"
            ]
          },
          "metadata": {},
          "execution_count": 35
        }
      ]
    },
    {
      "cell_type": "code",
      "source": [
        "df['income'].value_counts()"
      ],
      "metadata": {
        "colab": {
          "base_uri": "https://localhost:8080/"
        },
        "id": "ks5TflpoljzZ",
        "outputId": "8e203f3e-4bc2-4209-db86-c0311b71f902"
      },
      "execution_count": 36,
      "outputs": [
        {
          "output_type": "execute_result",
          "data": {
            "text/plain": [
              "<=50K    37109\n",
              ">50K     11681\n",
              "Name: income, dtype: int64"
            ]
          },
          "metadata": {},
          "execution_count": 36
        }
      ]
    },
    {
      "cell_type": "code",
      "source": [
        "df['income'] = label_encoder.fit_transform(df['income']) \n",
        "df['income'].value_counts()"
      ],
      "metadata": {
        "colab": {
          "base_uri": "https://localhost:8080/"
        },
        "id": "kuHD3NL5l1Y-",
        "outputId": "f2eaa388-4878-469b-d707-b390efb4e0ed"
      },
      "execution_count": 37,
      "outputs": [
        {
          "output_type": "execute_result",
          "data": {
            "text/plain": [
              "0    37109\n",
              "1    11681\n",
              "Name: income, dtype: int64"
            ]
          },
          "metadata": {},
          "execution_count": 37
        }
      ]
    },
    {
      "cell_type": "code",
      "source": [
        "plt.figure(figsize=(12,10))\n",
        "sns.heatmap(df.corr(), annot=True)\n",
        "plt.show()"
      ],
      "metadata": {
        "colab": {
          "base_uri": "https://localhost:8080/",
          "height": 670
        },
        "id": "d-ynh9f8mhlW",
        "outputId": "618a7402-218e-49ca-94c2-98b747118a04"
      },
      "execution_count": 41,
      "outputs": [
        {
          "output_type": "display_data",
          "data": {
            "text/plain": [
              "<Figure size 864x720 with 2 Axes>"
            ],
            "image/png": "[encoded data removed]"
          },
          "metadata": {
            "needs_background": "light"
          }
        }
      ]
    },
    {
      "cell_type": "code",
      "source": [
        "X = df[['age','workclass','educational-num','marital-status','occupation','relationship','race','gender','capital-gain','capital-loss','native-country']].values \n",
        "y = df['income'].values"
      ],
      "metadata": {
        "id": "_E1xJAvjmPl2"
      },
      "execution_count": 38,
      "outputs": []
    },
    {
      "cell_type": "code",
      "source": [
        "(train_X, test_X, train_Y, test_Y) = train_test_split(X, y, test_size = 0.25, random_state = 50)\n",
        "\n",
        "print(\"Shape of train_X: \" ,train_X.shape)\n",
        "print(\"Shape of test_X: \" ,test_X.shape)"
      ],
      "metadata": {
        "colab": {
          "base_uri": "https://localhost:8080/"
        },
        "id": "WZrojzXQma-O",
        "outputId": "4a1d21a7-1f23-4875-b5ee-e8468bbd1e60"
      },
      "execution_count": 43,
      "outputs": [
        {
          "output_type": "stream",
          "name": "stdout",
          "text": [
            "Shape of train_X:  (36592, 11)\n",
            "Shape of test_X:  (12198, 11)\n"
          ]
        }
      ]
    },
    {
      "cell_type": "code",
      "source": [
        "from sklearn.preprocessing import StandardScaler \n",
        "scaler = StandardScaler()\n",
        "train_X = scaler.fit_transform(train_X)\n",
        "test_X = scaler.transform(test_X)"
      ],
      "metadata": {
        "id": "nY0brSUKmy6O"
      },
      "execution_count": 44,
      "outputs": []
    },
    {
      "cell_type": "code",
      "source": [
        "from sklearn.neighbors import KNeighborsClassifier, KNeighborsRegressor\n",
        "from sklearn.ensemble import RandomForestRegressor\n",
        "from sklearn.metrics import mean_absolute_error, mean_squared_error"
      ],
      "metadata": {
        "id": "rsFuKxmDnLfl"
      },
      "execution_count": 51,
      "outputs": []
    },
    {
      "cell_type": "markdown",
      "source": [
        "**RANDOM** **FOREST**"
      ],
      "metadata": {
        "id": "xeO2YxKInWpq"
      }
    },
    {
      "cell_type": "code",
      "source": [
        "rf = RandomForestRegressor()\n",
        "rf.fit(train_X, train_Y)\n",
        "rf_predict = rf.predict(test_X)"
      ],
      "metadata": {
        "id": "MoKBed_KnWH1"
      },
      "execution_count": 46,
      "outputs": []
    },
    {
      "cell_type": "code",
      "source": [
        "mae_rf = mean_absolute_error(test_Y, rf_predict)\n",
        "mse_rf = mean_squared_error(test_Y, rf_predict)\n",
        "print(\"MAE score of Random Forest model :\" , mae_rf)\n",
        "print(\"MSE score of Random Forest model :\" , mse_rf)"
      ],
      "metadata": {
        "colab": {
          "base_uri": "https://localhost:8080/"
        },
        "id": "c5x6D2DAnz82",
        "outputId": "c0f94e3c-7e87-43e4-ee4c-c2f252b61e28"
      },
      "execution_count": 50,
      "outputs": [
        {
          "output_type": "stream",
          "name": "stdout",
          "text": [
            "MAE score of Random Forest model : 0.19262336705290425\n",
            "MSE score of Random Forest model : 0.11360194382935966\n"
          ]
        }
      ]
    },
    {
      "cell_type": "markdown",
      "source": [
        "**KNN**"
      ],
      "metadata": {
        "id": "Fc68D5xjnkd1"
      }
    },
    {
      "cell_type": "code",
      "source": [
        "n = 7\n",
        "knn = KNeighborsClassifier(n_neighbors = n)\n",
        "knn.fit(train_X, train_Y)\n",
        "knn_predict = knn.predict(test_X)"
      ],
      "metadata": {
        "id": "RCtJXAK6n4nB"
      },
      "execution_count": 52,
      "outputs": []
    },
    {
      "cell_type": "code",
      "source": [
        "mae_knn = mean_absolute_error(test_Y, knn_predict)\n",
        "mse_knn = mean_squared_error(test_Y, knn_predict)\n",
        "print(\"MAE score of KNN model :\" , mae_knn)\n",
        "print(\"MSE score of KNN model :\" , mse_knn)"
      ],
      "metadata": {
        "colab": {
          "base_uri": "https://localhost:8080/"
        },
        "id": "0RDI1VHZoA41",
        "outputId": "8fcdbd30-ce48-4564-de9d-d84c8fc1027f"
      },
      "execution_count": 53,
      "outputs": [
        {
          "output_type": "stream",
          "name": "stdout",
          "text": [
            "MAE score of KNN model : 0.16199376947040497\n",
            "MSE score of KNN model : 0.16199376947040497\n"
          ]
        }
      ]
    }
  ]
}