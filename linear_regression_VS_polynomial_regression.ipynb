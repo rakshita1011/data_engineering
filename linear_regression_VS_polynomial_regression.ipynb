{
  "nbformat": 4,
  "nbformat_minor": 0,
  "metadata": {
    "colab": {
      "provenance": []
    },
    "kernelspec": {
      "name": "python3",
      "display_name": "Python 3"
    },
    "language_info": {
      "name": "python"
    }
  },
  "cells": [
    {
      "cell_type": "code",
      "execution_count": null,
      "metadata": {
        "id": "GsznkSIWdnDT"
      },
      "outputs": [],
      "source": [
        "import pandas as pd\n",
        "import numpy as np\n",
        "import matplotlib.pyplot as plt\n",
        "from sklearn.linear_model import LinearRegression\n",
        "from sklearn.preprocessing import PolynomialFeatures\n",
        "from sklearn.model_selection import train_test_split\n",
        "from sklearn.metrics import r2_score\n",
        "import seaborn as sb\n",
        "\n"
      ]
    },
    {
      "cell_type": "code",
      "source": [
        "data = pd.read_csv('https://raw.githubusercontent.com/YBI-Foundation/Dataset/main/MPG.csv')"
      ],
      "metadata": {
        "id": "FxA8t236eN3h"
      },
      "execution_count": null,
      "outputs": []
    },
    {
      "cell_type": "code",
      "source": [
        "data.head()"
      ],
      "metadata": {
        "colab": {
          "base_uri": "https://localhost:8080/",
          "height": 206
        },
        "id": "5kMyjWQieUzx",
        "outputId": "fc19c570-b9b3-41df-f4de-8ae4002c282e"
      },
      "execution_count": null,
      "outputs": [
        {
          "output_type": "execute_result",
          "data": {
            "text/plain": [
              "    mpg  cylinders  displacement  horsepower  weight  acceleration  \\\n",
              "0  18.0          8         307.0       130.0    3504          12.0   \n",
              "1  15.0          8         350.0       165.0    3693          11.5   \n",
              "2  18.0          8         318.0       150.0    3436          11.0   \n",
              "3  16.0          8         304.0       150.0    3433          12.0   \n",
              "4  17.0          8         302.0       140.0    3449          10.5   \n",
              "\n",
              "   model_year origin                       name  \n",
              "0          70    usa  chevrolet chevelle malibu  \n",
              "1          70    usa          buick skylark 320  \n",
              "2          70    usa         plymouth satellite  \n",
              "3          70    usa              amc rebel sst  \n",
              "4          70    usa                ford torino  "
            ],
            "text/html": [
              "\n",
              "  <div id=\"df-adffa6f1-f326-4f56-920c-2c0c9e843d63\">\n",
              "    <div class=\"colab-df-container\">\n",
              "      <div>\n",
              "<style scoped>\n",
              "    .dataframe tbody tr th:only-of-type {\n",
              "        vertical-align: middle;\n",
              "    }\n",
              "\n",
              "    .dataframe tbody tr th {\n",
              "        vertical-align: top;\n",
              "    }\n",
              "\n",
              "    .dataframe thead th {\n",
              "        text-align: right;\n",
              "    }\n",
              "</style>\n",
              "<table border=\"1\" class=\"dataframe\">\n",
              "  <thead>\n",
              "    <tr style=\"text-align: right;\">\n",
              "      <th></th>\n",
              "      <th>mpg</th>\n",
              "      <th>cylinders</th>\n",
              "      <th>displacement</th>\n",
              "      <th>horsepower</th>\n",
              "      <th>weight</th>\n",
              "      <th>acceleration</th>\n",
              "      <th>model_year</th>\n",
              "      <th>origin</th>\n",
              "      <th>name</th>\n",
              "    </tr>\n",
              "  </thead>\n",
              "  <tbody>\n",
              "    <tr>\n",
              "      <th>0</th>\n",
              "      <td>18.0</td>\n",
              "      <td>8</td>\n",
              "      <td>307.0</td>\n",
              "      <td>130.0</td>\n",
              "      <td>3504</td>\n",
              "      <td>12.0</td>\n",
              "      <td>70</td>\n",
              "      <td>usa</td>\n",
              "      <td>chevrolet chevelle malibu</td>\n",
              "    </tr>\n",
              "    <tr>\n",
              "      <th>1</th>\n",
              "      <td>15.0</td>\n",
              "      <td>8</td>\n",
              "      <td>350.0</td>\n",
              "      <td>165.0</td>\n",
              "      <td>3693</td>\n",
              "      <td>11.5</td>\n",
              "      <td>70</td>\n",
              "      <td>usa</td>\n",
              "      <td>buick skylark 320</td>\n",
              "    </tr>\n",
              "    <tr>\n",
              "      <th>2</th>\n",
              "      <td>18.0</td>\n",
              "      <td>8</td>\n",
              "      <td>318.0</td>\n",
              "      <td>150.0</td>\n",
              "      <td>3436</td>\n",
              "      <td>11.0</td>\n",
              "      <td>70</td>\n",
              "      <td>usa</td>\n",
              "      <td>plymouth satellite</td>\n",
              "    </tr>\n",
              "    <tr>\n",
              "      <th>3</th>\n",
              "      <td>16.0</td>\n",
              "      <td>8</td>\n",
              "      <td>304.0</td>\n",
              "      <td>150.0</td>\n",
              "      <td>3433</td>\n",
              "      <td>12.0</td>\n",
              "      <td>70</td>\n",
              "      <td>usa</td>\n",
              "      <td>amc rebel sst</td>\n",
              "    </tr>\n",
              "    <tr>\n",
              "      <th>4</th>\n",
              "      <td>17.0</td>\n",
              "      <td>8</td>\n",
              "      <td>302.0</td>\n",
              "      <td>140.0</td>\n",
              "      <td>3449</td>\n",
              "      <td>10.5</td>\n",
              "      <td>70</td>\n",
              "      <td>usa</td>\n",
              "      <td>ford torino</td>\n",
              "    </tr>\n",
              "  </tbody>\n",
              "</table>\n",
              "</div>\n",
              "      <button class=\"colab-df-convert\" onclick=\"convertToInteractive('df-adffa6f1-f326-4f56-920c-2c0c9e843d63')\"\n",
              "              title=\"Convert this dataframe to an interactive table.\"\n",
              "              style=\"display:none;\">\n",
              "        \n",
              "  <svg xmlns=\"http://www.w3.org/2000/svg\" height=\"24px\"viewBox=\"0 0 24 24\"\n",
              "       width=\"24px\">\n",
              "    <path d=\"M0 0h24v24H0V0z\" fill=\"none\"/>\n",
              "    <path d=\"M18.56 5.44l.94 2.06.94-2.06 2.06-.94-2.06-.94-.94-2.06-.94 2.06-2.06.94zm-11 1L8.5 8.5l.94-2.06 2.06-.94-2.06-.94L8.5 2.5l-.94 2.06-2.06.94zm10 10l.94 2.06.94-2.06 2.06-.94-2.06-.94-.94-2.06-.94 2.06-2.06.94z\"/><path d=\"M17.41 7.96l-1.37-1.37c-.4-.4-.92-.59-1.43-.59-.52 0-1.04.2-1.43.59L10.3 9.45l-7.72 7.72c-.78.78-.78 2.05 0 2.83L4 21.41c.39.39.9.59 1.41.59.51 0 1.02-.2 1.41-.59l7.78-7.78 2.81-2.81c.8-.78.8-2.07 0-2.86zM5.41 20L4 18.59l7.72-7.72 1.47 1.35L5.41 20z\"/>\n",
              "  </svg>\n",
              "      </button>\n",
              "      \n",
              "  <style>\n",
              "    .colab-df-container {\n",
              "      display:flex;\n",
              "      flex-wrap:wrap;\n",
              "      gap: 12px;\n",
              "    }\n",
              "\n",
              "    .colab-df-convert {\n",
              "      background-color: #E8F0FE;\n",
              "      border: none;\n",
              "      border-radius: 50%;\n",
              "      cursor: pointer;\n",
              "      display: none;\n",
              "      fill: #1967D2;\n",
              "      height: 32px;\n",
              "      padding: 0 0 0 0;\n",
              "      width: 32px;\n",
              "    }\n",
              "\n",
              "    .colab-df-convert:hover {\n",
              "      background-color: #E2EBFA;\n",
              "      box-shadow: 0px 1px 2px rgba(60, 64, 67, 0.3), 0px 1px 3px 1px rgba(60, 64, 67, 0.15);\n",
              "      fill: #174EA6;\n",
              "    }\n",
              "\n",
              "    [theme=dark] .colab-df-convert {\n",
              "      background-color: #3B4455;\n",
              "      fill: #D2E3FC;\n",
              "    }\n",
              "\n",
              "    [theme=dark] .colab-df-convert:hover {\n",
              "      background-color: #434B5C;\n",
              "      box-shadow: 0px 1px 3px 1px rgba(0, 0, 0, 0.15);\n",
              "      filter: drop-shadow(0px 1px 2px rgba(0, 0, 0, 0.3));\n",
              "      fill: #FFFFFF;\n",
              "    }\n",
              "  </style>\n",
              "\n",
              "      <script>\n",
              "        const buttonEl =\n",
              "          document.querySelector('#df-adffa6f1-f326-4f56-920c-2c0c9e843d63 button.colab-df-convert');\n",
              "        buttonEl.style.display =\n",
              "          google.colab.kernel.accessAllowed ? 'block' : 'none';\n",
              "\n",
              "        async function convertToInteractive(key) {\n",
              "          const element = document.querySelector('#df-adffa6f1-f326-4f56-920c-2c0c9e843d63');\n",
              "          const dataTable =\n",
              "            await google.colab.kernel.invokeFunction('convertToInteractive',\n",
              "                                                     [key], {});\n",
              "          if (!dataTable) return;\n",
              "\n",
              "          const docLinkHtml = 'Like what you see? Visit the ' +\n",
              "            '<a target=\"_blank\" href=https://colab.research.google.com/notebooks/data_table.ipynb>data table notebook</a>'\n",
              "            + ' to learn more about interactive tables.';\n",
              "          element.innerHTML = '';\n",
              "          dataTable['output_type'] = 'display_data';\n",
              "          await google.colab.output.renderOutput(dataTable, element);\n",
              "          const docLink = document.createElement('div');\n",
              "          docLink.innerHTML = docLinkHtml;\n",
              "          element.appendChild(docLink);\n",
              "        }\n",
              "      </script>\n",
              "    </div>\n",
              "  </div>\n",
              "  "
            ]
          },
          "metadata": {},
          "execution_count": 3
        }
      ]
    },
    {
      "cell_type": "code",
      "source": [
        "data.shape"
      ],
      "metadata": {
        "colab": {
          "base_uri": "https://localhost:8080/"
        },
        "id": "OuWDrgz5eaLw",
        "outputId": "580532f0-79f7-4719-f905-35eb6f818c03"
      },
      "execution_count": null,
      "outputs": [
        {
          "output_type": "execute_result",
          "data": {
            "text/plain": [
              "(398, 9)"
            ]
          },
          "metadata": {},
          "execution_count": 4
        }
      ]
    },
    {
      "cell_type": "code",
      "source": [
        "data.describe()"
      ],
      "metadata": {
        "colab": {
          "base_uri": "https://localhost:8080/",
          "height": 300
        },
        "id": "7rGg0us1ey5E",
        "outputId": "a308acd0-6229-468a-f56c-1f683a123c0f"
      },
      "execution_count": null,
      "outputs": [
        {
          "output_type": "execute_result",
          "data": {
            "text/plain": [
              "              mpg   cylinders  displacement  horsepower       weight  \\\n",
              "count  398.000000  398.000000    398.000000  392.000000   398.000000   \n",
              "mean    23.514573    5.454774    193.425879  104.469388  2970.424623   \n",
              "std      7.815984    1.701004    104.269838   38.491160   846.841774   \n",
              "min      9.000000    3.000000     68.000000   46.000000  1613.000000   \n",
              "25%     17.500000    4.000000    104.250000   75.000000  2223.750000   \n",
              "50%     23.000000    4.000000    148.500000   93.500000  2803.500000   \n",
              "75%     29.000000    8.000000    262.000000  126.000000  3608.000000   \n",
              "max     46.600000    8.000000    455.000000  230.000000  5140.000000   \n",
              "\n",
              "       acceleration  model_year  \n",
              "count    398.000000  398.000000  \n",
              "mean      15.568090   76.010050  \n",
              "std        2.757689    3.697627  \n",
              "min        8.000000   70.000000  \n",
              "25%       13.825000   73.000000  \n",
              "50%       15.500000   76.000000  \n",
              "75%       17.175000   79.000000  \n",
              "max       24.800000   82.000000  "
            ],
            "text/html": [
              "\n",
              "  <div id=\"df-57ff5db3-bffd-4ac3-b978-5bf0e70371fc\">\n",
              "    <div class=\"colab-df-container\">\n",
              "      <div>\n",
              "<style scoped>\n",
              "    .dataframe tbody tr th:only-of-type {\n",
              "        vertical-align: middle;\n",
              "    }\n",
              "\n",
              "    .dataframe tbody tr th {\n",
              "        vertical-align: top;\n",
              "    }\n",
              "\n",
              "    .dataframe thead th {\n",
              "        text-align: right;\n",
              "    }\n",
              "</style>\n",
              "<table border=\"1\" class=\"dataframe\">\n",
              "  <thead>\n",
              "    <tr style=\"text-align: right;\">\n",
              "      <th></th>\n",
              "      <th>mpg</th>\n",
              "      <th>cylinders</th>\n",
              "      <th>displacement</th>\n",
              "      <th>horsepower</th>\n",
              "      <th>weight</th>\n",
              "      <th>acceleration</th>\n",
              "      <th>model_year</th>\n",
              "    </tr>\n",
              "  </thead>\n",
              "  <tbody>\n",
              "    <tr>\n",
              "      <th>count</th>\n",
              "      <td>398.000000</td>\n",
              "      <td>398.000000</td>\n",
              "      <td>398.000000</td>\n",
              "      <td>392.000000</td>\n",
              "      <td>398.000000</td>\n",
              "      <td>398.000000</td>\n",
              "      <td>398.000000</td>\n",
              "    </tr>\n",
              "    <tr>\n",
              "      <th>mean</th>\n",
              "      <td>23.514573</td>\n",
              "      <td>5.454774</td>\n",
              "      <td>193.425879</td>\n",
              "      <td>104.469388</td>\n",
              "      <td>2970.424623</td>\n",
              "      <td>15.568090</td>\n",
              "      <td>76.010050</td>\n",
              "    </tr>\n",
              "    <tr>\n",
              "      <th>std</th>\n",
              "      <td>7.815984</td>\n",
              "      <td>1.701004</td>\n",
              "      <td>104.269838</td>\n",
              "      <td>38.491160</td>\n",
              "      <td>846.841774</td>\n",
              "      <td>2.757689</td>\n",
              "      <td>3.697627</td>\n",
              "    </tr>\n",
              "    <tr>\n",
              "      <th>min</th>\n",
              "      <td>9.000000</td>\n",
              "      <td>3.000000</td>\n",
              "      <td>68.000000</td>\n",
              "      <td>46.000000</td>\n",
              "      <td>1613.000000</td>\n",
              "      <td>8.000000</td>\n",
              "      <td>70.000000</td>\n",
              "    </tr>\n",
              "    <tr>\n",
              "      <th>25%</th>\n",
              "      <td>17.500000</td>\n",
              "      <td>4.000000</td>\n",
              "      <td>104.250000</td>\n",
              "      <td>75.000000</td>\n",
              "      <td>2223.750000</td>\n",
              "      <td>13.825000</td>\n",
              "      <td>73.000000</td>\n",
              "    </tr>\n",
              "    <tr>\n",
              "      <th>50%</th>\n",
              "      <td>23.000000</td>\n",
              "      <td>4.000000</td>\n",
              "      <td>148.500000</td>\n",
              "      <td>93.500000</td>\n",
              "      <td>2803.500000</td>\n",
              "      <td>15.500000</td>\n",
              "      <td>76.000000</td>\n",
              "    </tr>\n",
              "    <tr>\n",
              "      <th>75%</th>\n",
              "      <td>29.000000</td>\n",
              "      <td>8.000000</td>\n",
              "      <td>262.000000</td>\n",
              "      <td>126.000000</td>\n",
              "      <td>3608.000000</td>\n",
              "      <td>17.175000</td>\n",
              "      <td>79.000000</td>\n",
              "    </tr>\n",
              "    <tr>\n",
              "      <th>max</th>\n",
              "      <td>46.600000</td>\n",
              "      <td>8.000000</td>\n",
              "      <td>455.000000</td>\n",
              "      <td>230.000000</td>\n",
              "      <td>5140.000000</td>\n",
              "      <td>24.800000</td>\n",
              "      <td>82.000000</td>\n",
              "    </tr>\n",
              "  </tbody>\n",
              "</table>\n",
              "</div>\n",
              "      <button class=\"colab-df-convert\" onclick=\"convertToInteractive('df-57ff5db3-bffd-4ac3-b978-5bf0e70371fc')\"\n",
              "              title=\"Convert this dataframe to an interactive table.\"\n",
              "              style=\"display:none;\">\n",
              "        \n",
              "  <svg xmlns=\"http://www.w3.org/2000/svg\" height=\"24px\"viewBox=\"0 0 24 24\"\n",
              "       width=\"24px\">\n",
              "    <path d=\"M0 0h24v24H0V0z\" fill=\"none\"/>\n",
              "    <path d=\"M18.56 5.44l.94 2.06.94-2.06 2.06-.94-2.06-.94-.94-2.06-.94 2.06-2.06.94zm-11 1L8.5 8.5l.94-2.06 2.06-.94-2.06-.94L8.5 2.5l-.94 2.06-2.06.94zm10 10l.94 2.06.94-2.06 2.06-.94-2.06-.94-.94-2.06-.94 2.06-2.06.94z\"/><path d=\"M17.41 7.96l-1.37-1.37c-.4-.4-.92-.59-1.43-.59-.52 0-1.04.2-1.43.59L10.3 9.45l-7.72 7.72c-.78.78-.78 2.05 0 2.83L4 21.41c.39.39.9.59 1.41.59.51 0 1.02-.2 1.41-.59l7.78-7.78 2.81-2.81c.8-.78.8-2.07 0-2.86zM5.41 20L4 18.59l7.72-7.72 1.47 1.35L5.41 20z\"/>\n",
              "  </svg>\n",
              "      </button>\n",
              "      \n",
              "  <style>\n",
              "    .colab-df-container {\n",
              "      display:flex;\n",
              "      flex-wrap:wrap;\n",
              "      gap: 12px;\n",
              "    }\n",
              "\n",
              "    .colab-df-convert {\n",
              "      background-color: #E8F0FE;\n",
              "      border: none;\n",
              "      border-radius: 50%;\n",
              "      cursor: pointer;\n",
              "      display: none;\n",
              "      fill: #1967D2;\n",
              "      height: 32px;\n",
              "      padding: 0 0 0 0;\n",
              "      width: 32px;\n",
              "    }\n",
              "\n",
              "    .colab-df-convert:hover {\n",
              "      background-color: #E2EBFA;\n",
              "      box-shadow: 0px 1px 2px rgba(60, 64, 67, 0.3), 0px 1px 3px 1px rgba(60, 64, 67, 0.15);\n",
              "      fill: #174EA6;\n",
              "    }\n",
              "\n",
              "    [theme=dark] .colab-df-convert {\n",
              "      background-color: #3B4455;\n",
              "      fill: #D2E3FC;\n",
              "    }\n",
              "\n",
              "    [theme=dark] .colab-df-convert:hover {\n",
              "      background-color: #434B5C;\n",
              "      box-shadow: 0px 1px 3px 1px rgba(0, 0, 0, 0.15);\n",
              "      filter: drop-shadow(0px 1px 2px rgba(0, 0, 0, 0.3));\n",
              "      fill: #FFFFFF;\n",
              "    }\n",
              "  </style>\n",
              "\n",
              "      <script>\n",
              "        const buttonEl =\n",
              "          document.querySelector('#df-57ff5db3-bffd-4ac3-b978-5bf0e70371fc button.colab-df-convert');\n",
              "        buttonEl.style.display =\n",
              "          google.colab.kernel.accessAllowed ? 'block' : 'none';\n",
              "\n",
              "        async function convertToInteractive(key) {\n",
              "          const element = document.querySelector('#df-57ff5db3-bffd-4ac3-b978-5bf0e70371fc');\n",
              "          const dataTable =\n",
              "            await google.colab.kernel.invokeFunction('convertToInteractive',\n",
              "                                                     [key], {});\n",
              "          if (!dataTable) return;\n",
              "\n",
              "          const docLinkHtml = 'Like what you see? Visit the ' +\n",
              "            '<a target=\"_blank\" href=https://colab.research.google.com/notebooks/data_table.ipynb>data table notebook</a>'\n",
              "            + ' to learn more about interactive tables.';\n",
              "          element.innerHTML = '';\n",
              "          dataTable['output_type'] = 'display_data';\n",
              "          await google.colab.output.renderOutput(dataTable, element);\n",
              "          const docLink = document.createElement('div');\n",
              "          docLink.innerHTML = docLinkHtml;\n",
              "          element.appendChild(docLink);\n",
              "        }\n",
              "      </script>\n",
              "    </div>\n",
              "  </div>\n",
              "  "
            ]
          },
          "metadata": {},
          "execution_count": 5
        }
      ]
    },
    {
      "cell_type": "code",
      "source": [
        "data.isnull().sum()"
      ],
      "metadata": {
        "colab": {
          "base_uri": "https://localhost:8080/"
        },
        "id": "q3erB4fCi-4j",
        "outputId": "df4cc950-fb7d-48af-d2ad-4baaef6dc218"
      },
      "execution_count": null,
      "outputs": [
        {
          "output_type": "execute_result",
          "data": {
            "text/plain": [
              "mpg             0\n",
              "cylinders       0\n",
              "displacement    0\n",
              "horsepower      6\n",
              "weight          0\n",
              "acceleration    0\n",
              "model_year      0\n",
              "origin          0\n",
              "name            0\n",
              "dtype: int64"
            ]
          },
          "metadata": {},
          "execution_count": 6
        }
      ]
    },
    {
      "cell_type": "code",
      "source": [
        "print(\"mean of horsepower; \", data['horsepower'].mean())\n",
        "print(\"median of horsepower; \", data['horsepower'].median())\n",
        "print(\"mode of horsepower; \", data['horsepower'].mode())"
      ],
      "metadata": {
        "colab": {
          "base_uri": "https://localhost:8080/"
        },
        "id": "-6ECppZGjU8N",
        "outputId": "aec1ab47-b977-4303-e976-7cad06060303"
      },
      "execution_count": null,
      "outputs": [
        {
          "output_type": "stream",
          "name": "stdout",
          "text": [
            "mean of horsepower;  104.46938775510205\n",
            "median of horsepower;  93.5\n",
            "mode of horsepower;  0    150.0\n",
            "dtype: float64\n"
          ]
        }
      ]
    },
    {
      "cell_type": "code",
      "source": [
        "mean = data[\"horsepower\"].mean()\n",
        "data[\"horsepower\"] = data[\"horsepower\"].fillna(mean)"
      ],
      "metadata": {
        "id": "KhJAICy6j873"
      },
      "execution_count": null,
      "outputs": []
    },
    {
      "cell_type": "code",
      "source": [
        "data.isnull().sum()"
      ],
      "metadata": {
        "colab": {
          "base_uri": "https://localhost:8080/"
        },
        "id": "1OQoO0MblZv4",
        "outputId": "ed34c6d9-b9bb-46f5-d870-7332cad929ca"
      },
      "execution_count": null,
      "outputs": [
        {
          "output_type": "execute_result",
          "data": {
            "text/plain": [
              "mpg             0\n",
              "cylinders       0\n",
              "displacement    0\n",
              "horsepower      0\n",
              "weight          0\n",
              "acceleration    0\n",
              "model_year      0\n",
              "origin          0\n",
              "name            0\n",
              "dtype: int64"
            ]
          },
          "metadata": {},
          "execution_count": 9
        }
      ]
    },
    {
      "cell_type": "code",
      "source": [
        "sb.distplot(data.horsepower);"
      ],
      "metadata": {
        "colab": {
          "base_uri": "https://localhost:8080/",
          "height": 334
        },
        "id": "KFqcU27qfxhV",
        "outputId": "f9860a60-a1d7-42fa-8e38-e896900a72b8"
      },
      "execution_count": null,
      "outputs": [
        {
          "output_type": "stream",
          "name": "stderr",
          "text": [
            "/usr/local/lib/python3.7/dist-packages/seaborn/distributions.py:2619: FutureWarning: `distplot` is a deprecated function and will be removed in a future version. Please adapt your code to use either `displot` (a figure-level function with similar flexibility) or `histplot` (an axes-level function for histograms).\n",
            "  warnings.warn(msg, FutureWarning)\n"
          ]
        },
        {
          "output_type": "display_data",
          "data": {
            "text/plain": [
              "<Figure size 432x288 with 1 Axes>"
            ],
            "image/png": "[encoded data removed]"
          },
          "metadata": {
            "needs_background": "light"
          }
        }
      ]
    },
    {
      "cell_type": "code",
      "source": [
        "sb.distplot(data.weight);"
      ],
      "metadata": {
        "colab": {
          "base_uri": "https://localhost:8080/",
          "height": 334
        },
        "id": "lEQjYaXlf7Pu",
        "outputId": "359e9f69-0763-4cd3-bac3-7ed0b83ec9ce"
      },
      "execution_count": null,
      "outputs": [
        {
          "output_type": "stream",
          "name": "stderr",
          "text": [
            "/usr/local/lib/python3.7/dist-packages/seaborn/distributions.py:2619: FutureWarning: `distplot` is a deprecated function and will be removed in a future version. Please adapt your code to use either `displot` (a figure-level function with similar flexibility) or `histplot` (an axes-level function for histograms).\n",
            "  warnings.warn(msg, FutureWarning)\n"
          ]
        },
        {
          "output_type": "display_data",
          "data": {
            "text/plain": [
              "<Figure size 432x288 with 1 Axes>"
            ],
            "image/png": "[encoded data removed]"
          },
          "metadata": {
            "needs_background": "light"
          }
        }
      ]
    },
    {
      "cell_type": "code",
      "source": [
        "sb.distplot(data.acceleration)\n"
      ],
      "metadata": {
        "colab": {
          "base_uri": "https://localhost:8080/",
          "height": 351
        },
        "id": "xM6Z1dXAgUsm",
        "outputId": "d1f95ce5-af9f-411b-e47a-4bb83959ccf8"
      },
      "execution_count": null,
      "outputs": [
        {
          "output_type": "stream",
          "name": "stderr",
          "text": [
            "/usr/local/lib/python3.7/dist-packages/seaborn/distributions.py:2619: FutureWarning: `distplot` is a deprecated function and will be removed in a future version. Please adapt your code to use either `displot` (a figure-level function with similar flexibility) or `histplot` (an axes-level function for histograms).\n",
            "  warnings.warn(msg, FutureWarning)\n"
          ]
        },
        {
          "output_type": "execute_result",
          "data": {
            "text/plain": [
              "<matplotlib.axes._subplots.AxesSubplot at 0x7ff33ebbdb50>"
            ]
          },
          "metadata": {},
          "execution_count": 12
        },
        {
          "output_type": "display_data",
          "data": {
            "text/plain": [
              "<Figure size 432x288 with 1 Axes>"
            ],
            "image/png": "[encoded data removed]"
          },
          "metadata": {
            "needs_background": "light"
          }
        }
      ]
    },
    {
      "cell_type": "code",
      "source": [
        "# skewness and Kurtosis\n",
        "\n",
        "print(\"Range of SKEWNESS and KURTOSIS to be between -1 and +1 for all the Predictors\")\n",
        "\n",
        "print(\"Skewness of 'horsepower': \", stats.skew(data.horsepower))\n",
        "print(\"Skewness of 'weight': \", stats.skew(data.weight))\n",
        "print(\"Skewness of 'acceleration': \", stats.skew(data.acceleration))\n",
        "\n",
        "print(\"Kurtosis of 'horsepower': \", stats.kurtosis(data.horsepower))\n",
        "print(\"Kurtosis of 'weight': \", stats.kurtosis(data.weight))\n",
        "print(\"Kurtosis of 'acceleration': \", stats.kurtosis(data.acceleration))"
      ],
      "metadata": {
        "colab": {
          "base_uri": "https://localhost:8080/"
        },
        "id": "JSWONr4vgvNk",
        "outputId": "7f6a30dd-04be-47f7-bf1f-85d90e9435ee"
      },
      "execution_count": null,
      "outputs": [
        {
          "output_type": "stream",
          "name": "stdout",
          "text": [
            "Range of SKEWNESS and KURTOSIS to be between -1 and +1 for all the Predictors\n",
            "Skewness of 'horsepower':  1.0914191838332945\n",
            "Skewness of 'weight':  0.5290589216608383\n",
            "Skewness of 'acceleration':  0.27772507624356363\n",
            "Kurtosis of 'horsepower':  0.7290385466123319\n",
            "Kurtosis of 'weight':  -0.7907326965772179\n",
            "Kurtosis of 'acceleration':  0.3992077323931644\n"
          ]
        }
      ]
    },
    {
      "cell_type": "code",
      "source": [
        "X = data.loc[:,['horsepower', 'weight', 'acceleration']]\n",
        "y = data.mpg"
      ],
      "metadata": {
        "id": "ly4NkK_ph6Cf"
      },
      "execution_count": null,
      "outputs": []
    },
    {
      "cell_type": "code",
      "source": [
        "# Splitting the dataset into Train and Test sets\n",
        "\n",
        "X_train, X_test, y_train, y_test = train_test_split(X, y, test_size = 0.30, random_state=45)"
      ],
      "metadata": {
        "id": "2HXI23IniNmN"
      },
      "execution_count": null,
      "outputs": []
    },
    {
      "cell_type": "code",
      "source": [
        "from sklearn.preprocessing import StandardScaler\n",
        "sc = StandardScaler()\n",
        "X_train = sc.fit_transform(X_train)\n",
        "X_test = sc.transform(X_test)"
      ],
      "metadata": {
        "id": "yGkEXjfpo3H7"
      },
      "execution_count": null,
      "outputs": []
    },
    {
      "cell_type": "code",
      "source": [
        "print(\"X_train shape:\", X_train.shape)\n",
        "print(\"X_test shape:\", X_test.shape)\n",
        "\n",
        "print(\"y_train shape:\", y_train.shape)\n",
        "print(\"y_train shape:\", y_test.shape)"
      ],
      "metadata": {
        "colab": {
          "base_uri": "https://localhost:8080/"
        },
        "id": "e2joHdMliZsd",
        "outputId": "d126143d-b81d-4eb8-844f-78cd6eed2075"
      },
      "execution_count": null,
      "outputs": [
        {
          "output_type": "stream",
          "name": "stdout",
          "text": [
            "X_train shape: (278, 3)\n",
            "X_test shape: (120, 3)\n",
            "y_train shape: (278,)\n",
            "y_train shape: (120,)\n"
          ]
        }
      ]
    },
    {
      "cell_type": "markdown",
      "source": [
        "MODEL Fitting"
      ],
      "metadata": {
        "id": "SbrWpsGJifZ2"
      }
    },
    {
      "cell_type": "code",
      "source": [
        "model = LinearRegression()\n",
        "\n",
        "model.fit(X_train, y_train)"
      ],
      "metadata": {
        "colab": {
          "base_uri": "https://localhost:8080/"
        },
        "id": "dLZLdt4nii-E",
        "outputId": "57b417e6-8ea6-4d50-814f-9b1b22f990a7"
      },
      "execution_count": null,
      "outputs": [
        {
          "output_type": "execute_result",
          "data": {
            "text/plain": [
              "LinearRegression()"
            ]
          },
          "metadata": {},
          "execution_count": 67
        }
      ]
    },
    {
      "cell_type": "code",
      "source": [
        "y_predict = model.predict(X_test)"
      ],
      "metadata": {
        "id": "iIu4Njn3ll1q"
      },
      "execution_count": null,
      "outputs": []
    },
    {
      "cell_type": "code",
      "source": [
        "r2_score(y_test, y_predict)*100"
      ],
      "metadata": {
        "colab": {
          "base_uri": "https://localhost:8080/"
        },
        "id": "LcDix6dilrqo",
        "outputId": "9bfbab59-037d-4270-c998-8075bf6d2a93"
      },
      "execution_count": null,
      "outputs": [
        {
          "output_type": "execute_result",
          "data": {
            "text/plain": [
              "65.54444916998196"
            ]
          },
          "metadata": {},
          "execution_count": 75
        }
      ]
    },
    {
      "cell_type": "markdown",
      "source": [
        "Linear regression Model is 65.54% accurate"
      ],
      "metadata": {
        "id": "P-oGQPVSl9jS"
      }
    },
    {
      "cell_type": "code",
      "source": [
        "poly_regs= PolynomialFeatures(degree= 1)  \n",
        "x_poly= poly_regs.fit_transform(X_train)  \n",
        "model.fit(x_poly,y_train)"
      ],
      "metadata": {
        "colab": {
          "base_uri": "https://localhost:8080/"
        },
        "id": "PMTeYLJhmFVZ",
        "outputId": "a55b9175-e991-4dee-f7d5-c96f6e70482c"
      },
      "execution_count": null,
      "outputs": [
        {
          "output_type": "execute_result",
          "data": {
            "text/plain": [
              "LinearRegression()"
            ]
          },
          "metadata": {},
          "execution_count": 72
        }
      ]
    },
    {
      "cell_type": "code",
      "source": [
        "poly_predict = poly_regs.fit_transform(X_test)"
      ],
      "metadata": {
        "id": "NwJI40usbhG9"
      },
      "execution_count": null,
      "outputs": []
    },
    {
      "cell_type": "code",
      "source": [
        "poly_predict"
      ],
      "metadata": {
        "colab": {
          "base_uri": "https://localhost:8080/"
        },
        "id": "_VcbWQtXdoC-",
        "outputId": "cdc46036-7b0f-4e18-817e-ac9fd7329f86"
      },
      "execution_count": null,
      "outputs": [
        {
          "output_type": "execute_result",
          "data": {
            "text/plain": [
              "array([[ 1.00000000e+00, -4.46031836e-01, -2.98720999e-01,\n",
              "        -3.66981196e-02],\n",
              "       [ 1.00000000e+00, -9.73427194e-01, -1.04813693e+00,\n",
              "         8.22424176e-01],\n",
              "       [ 1.00000000e+00, -1.94891189e-01,  6.22316895e-01,\n",
              "         1.25198532e+00],\n",
              "       [ 1.00000000e+00, -8.98085000e-01, -8.42190564e-01,\n",
              "         5.00253315e-01],\n",
              "       [ 1.00000000e+00, -7.72514676e-01, -8.59352761e-01,\n",
              "        -3.58868980e-01],\n",
              "       [ 1.00000000e+00,  1.53797927e+00,  2.20238315e+00,\n",
              "        -1.07480423e+00],\n",
              "       [ 1.00000000e+00, -1.50082255e+00, -1.17971377e+00,\n",
              "         1.96792057e+00],\n",
              "       [ 1.00000000e+00,  1.48775114e+00,  5.30785179e-01,\n",
              "        -7.52633366e-01],\n",
              "       [ 1.00000000e+00, -4.96259965e-01, -8.63929347e-01,\n",
              "         3.57066266e-01],\n",
              "       [ 1.00000000e+00, -1.90927363e-02,  8.51146185e-01,\n",
              "         1.25198532e+00],\n",
              "       [ 1.00000000e+00,  9.85469851e-01,  1.66921090e+00,\n",
              "        -5.37852792e-01],\n",
              "       [ 1.00000000e+00,  4.83188557e-01,  1.05137181e+00,\n",
              "         6.79237127e-01],\n",
              "       [ 1.00000000e+00, -3.95803706e-01, -9.81776431e-01,\n",
              "        -5.37852792e-01],\n",
              "       [ 1.00000000e+00, -9.73427194e-01, -1.16255157e+00,\n",
              "        -1.79885169e-01],\n",
              "       [ 1.00000000e+00,  2.11560276e+00,  1.53763406e+00,\n",
              "        -1.18219451e+00],\n",
              "       [ 1.00000000e+00,  8.59899527e-01,  5.35361764e-01,\n",
              "        -1.79073947e+00],\n",
              "       [ 1.00000000e+00,  1.48775114e+00,  1.40491307e+00,\n",
              "        -1.25378804e+00],\n",
              "       [ 1.00000000e+00,  2.74345438e+00,  1.86943653e+00,\n",
              "        -5.37852792e-01],\n",
              "       [ 1.00000000e+00,  1.56705716e-01, -5.50178049e-02,\n",
              "        -3.58868980e-01],\n",
              "       [ 1.00000000e+00,  1.11104017e+00,  1.04221864e+00,\n",
              "        -1.07480423e+00],\n",
              "       [ 1.00000000e+00, -1.02365532e+00, -1.09962352e+00,\n",
              "         1.32357885e+00],\n",
              "       [ 1.00000000e+00,  9.85469851e-01,  5.07902250e-01,\n",
              "        -8.24226891e-01],\n",
              "       [ 1.00000000e+00, -6.97172482e-01, -9.07406912e-01,\n",
              "         1.06488930e-01],\n",
              "       [ 1.00000000e+00, -9.48313129e-01, -9.45163745e-01,\n",
              "         3.57066266e-01],\n",
              "       [ 1.00000000e+00, -7.72514676e-01, -8.41046418e-01,\n",
              "        -5.37852792e-01],\n",
              "       [ 1.00000000e+00, -5.71602159e-01, -8.71938372e-01,\n",
              "         3.57066266e-01],\n",
              "       [ 1.00000000e+00, -5.71602159e-01, -3.91396862e-01,\n",
              "         5.36050077e-01],\n",
              "       [ 1.00000000e+00, -1.90927363e-02,  1.04793937e+00,\n",
              "         1.07300151e+00],\n",
              "       [ 1.00000000e+00,  1.56705716e-01, -1.67144157e-01,\n",
              "        -2.87275456e-01],\n",
              "       [ 1.00000000e+00, -5.21374030e-01, -7.67821045e-01,\n",
              "         1.07300151e+00],\n",
              "       [ 1.00000000e+00, -7.22286547e-01,  6.28037627e-01,\n",
              "         1.64574971e+00],\n",
              "       [ 1.00000000e+00, -4.20917771e-01, -2.58675873e-01,\n",
              "         1.06488930e-01],\n",
              "       [ 1.00000000e+00,  1.86446211e+00,  1.60056211e+00,\n",
              "        -1.21799128e+00],\n",
              "       [ 1.00000000e+00, -8.72970935e-01, -8.67361786e-01,\n",
              "         3.57066266e-01],\n",
              "       [ 1.00000000e+00,  1.06477587e-01, -2.93000267e-01,\n",
              "        -1.03900746e+00],\n",
              "       [ 1.00000000e+00, -4.71145900e-01, -3.53640029e-01,\n",
              "         7.15033889e-01],\n",
              "       [ 1.00000000e+00,  1.61332147e+00,  6.65794460e-01,\n",
              "        -1.96972328e+00],\n",
              "       [ 1.00000000e+00,  1.06477587e-01,  4.39253462e-01,\n",
              "        -9.01357324e-04],\n",
              "       [ 1.00000000e+00, -8.98085000e-01, -1.19458767e+00,\n",
              "        -4.66259267e-01],\n",
              "       [ 1.00000000e+00, -5.21374030e-01, -1.44261228e-01,\n",
              "         7.50830651e-01],\n",
              "       [ 1.00000000e+00, -4.46031836e-01, -2.75582901e-02,\n",
              "         5.36050077e-01],\n",
              "       [ 1.00000000e+00, -8.72970935e-01,  2.39027833e-01,\n",
              "         3.32819754e+00],\n",
              "       [ 1.00000000e+00, -7.47400612e-01,  2.04703440e-01,\n",
              "         1.46676590e+00],\n",
              "       [ 1.00000000e+00, -3.95803706e-01, -3.46775150e-01,\n",
              "         3.57066266e-01],\n",
              "       [ 1.00000000e+00, -7.47400612e-01, -1.04813693e+00,\n",
              "        -3.58868980e-01],\n",
              "       [ 1.00000000e+00,  1.06477587e-01,  1.23443525e+00,\n",
              "         1.25198532e+00],\n",
              "       [ 1.00000000e+00, -4.46031836e-01,  9.02887945e-02,\n",
              "         5.71846840e-01],\n",
              "       [ 1.00000000e+00,  2.32047910e-01,  3.01955888e-01,\n",
              "        -3.66981196e-02],\n",
              "       [ 1.00000000e+00,  1.36218082e+00,  1.68751724e+00,\n",
              "        -7.16836604e-01],\n",
              "       [ 1.00000000e+00, -3.24185665e-02, -1.31129061e+00,\n",
              "         6.43440364e-01],\n",
              "       [ 1.00000000e+00,  1.61332147e+00,  1.93007629e+00,\n",
              "        -1.43277185e+00],\n",
              "       [ 1.00000000e+00, -7.72514676e-01, -5.02379068e-01,\n",
              "         5.36050077e-01],\n",
              "       [ 1.00000000e+00,  1.06477587e-01, -4.12880475e-02,\n",
              "         3.21269503e-01],\n",
              "       [ 1.00000000e+00, -8.98085000e-01, -8.93677154e-01,\n",
              "        -8.24226891e-01],\n",
              "       [ 1.00000000e+00,  1.06477587e-01, -3.67369786e-01,\n",
              "        -5.37852792e-01],\n",
              "       [ 1.00000000e+00, -8.98085000e-01, -1.18543450e+00,\n",
              "         4.64456553e-01],\n",
              "       [ 1.00000000e+00, -6.46944353e-01, -3.55928322e-01,\n",
              "        -1.79885169e-01],\n",
              "       [ 1.00000000e+00,  1.73889179e+00,  9.60984245e-01,\n",
              "        -1.61175566e+00],\n",
              "       [ 1.00000000e+00,  1.73889179e+00,  1.60628284e+00,\n",
              "        -1.25378804e+00],\n",
              "       [ 1.00000000e+00, -6.72058418e-01, -4.07414912e-01,\n",
              "         1.10879827e+00],\n",
              "       [ 1.00000000e+00, -6.97172482e-01, -4.45171745e-01,\n",
              "         1.07300151e+00],\n",
              "       [ 1.00000000e+00, -1.35013816e+00, -1.08246132e+00,\n",
              "         2.39748172e+00],\n",
              "       [ 1.00000000e+00, -3.45575577e-01, -1.32819764e-01,\n",
              "         3.21269503e-01],\n",
              "       [ 1.00000000e+00,  1.11104017e+00,  5.17055421e-01,\n",
              "        -1.25378804e+00],\n",
              "       [ 1.00000000e+00, -1.44663060e-01, -4.12880475e-02,\n",
              "         1.78082454e-01],\n",
              "       [ 1.00000000e+00,  4.83188557e-01,  7.13848611e-01,\n",
              "        -1.79885169e-01],\n",
              "       [ 1.00000000e+00, -1.44663060e-01, -3.97117594e-01,\n",
              "        -8.95820415e-01],\n",
              "       [ 1.00000000e+00, -1.44663060e-01,  4.06073215e-01,\n",
              "         5.36050077e-01],\n",
              "       [ 1.00000000e+00,  5.83644816e-01,  2.15000758e-01,\n",
              "        -1.25378804e+00],\n",
              "       [ 1.00000000e+00,  1.06477587e-01, -2.98720999e-01,\n",
              "        -7.16836604e-01],\n",
              "       [ 1.00000000e+00,  1.06477587e-01, -2.18375578e-02,\n",
              "        -7.16836604e-01],\n",
              "       [ 1.00000000e+00, -3.95803706e-01,  2.61910762e-01,\n",
              "         6.07643602e-01],\n",
              "       [ 1.00000000e+00, -1.12411158e+00, -1.11907401e+00,\n",
              "         1.25198532e+00],\n",
              "       [ 1.00000000e+00, -5.46488094e-01, -6.82010061e-01,\n",
              "        -9.31617177e-01],\n",
              "       [ 1.00000000e+00,  1.11104017e+00,  1.09713767e+00,\n",
              "        -8.24226891e-01],\n",
              "       [ 1.00000000e+00, -3.45575577e-01, -6.25946885e-01,\n",
              "        -1.79885169e-01],\n",
              "       [ 1.00000000e+00,  6.08758880e-01,  1.27791281e+00,\n",
              "        -5.37852792e-01],\n",
              "       [ 1.00000000e+00, -9.23199064e-01, -9.06262765e-01,\n",
              "         8.94017700e-01],\n",
              "       [ 1.00000000e+00, -3.45575577e-01, -4.53180770e-01,\n",
              "        -3.58868980e-01],\n",
              "       [ 1.00000000e+00, -8.98085000e-01, -1.13394791e+00,\n",
              "         5.36050077e-01],\n",
              "       [ 1.00000000e+00, -1.44663060e-01,  9.15218387e-01,\n",
              "         5.36050077e-01],\n",
              "       [ 1.00000000e+00, -1.90927363e-02,  5.07902250e-01,\n",
              "         5.00253315e-01],\n",
              "       [ 1.00000000e+00,  8.59899527e-01,  8.62587650e-01,\n",
              "        -8.24226891e-01],\n",
              "       [ 1.00000000e+00, -2.70233383e-01, -3.28468807e-01,\n",
              "        -1.79885169e-01],\n",
              "       [ 1.00000000e+00, -2.20005254e-01, -5.63018830e-01,\n",
              "        -1.79885169e-01],\n",
              "       [ 1.00000000e+00, -2.20005254e-01,  3.33366412e-03,\n",
              "        -3.58868980e-01],\n",
              "       [ 1.00000000e+00, -3.95803706e-01, -3.55673153e-02,\n",
              "         6.43440364e-01],\n",
              "       [ 1.00000000e+00,  1.11104017e+00,  1.09713767e+00,\n",
              "        -8.95820415e-01],\n",
              "       [ 1.00000000e+00, -2.70233383e-01,  1.38342945e-01,\n",
              "         3.57066266e-01],\n",
              "       [ 1.00000000e+00, -4.46031836e-01, -1.04216102e-01,\n",
              "         6.43440364e-01],\n",
              "       [ 1.00000000e+00, -1.02365532e+00, -6.87730793e-01,\n",
              "         1.86053028e+00],\n",
              "       [ 1.00000000e+00,  8.59899527e-01,  1.89575190e+00,\n",
              "         1.78082454e-01],\n",
              "       [ 1.00000000e+00, -9.73427194e-01, -1.29412841e+00,\n",
              "        -6.09446317e-01],\n",
              "       [ 1.00000000e+00, -4.46031836e-01, -1.27099031e-01,\n",
              "         9.29814463e-01],\n",
              "       [ 1.00000000e+00, -1.02365532e+00, -1.15111011e+00,\n",
              "        -1.08291644e-01],\n",
              "       [ 1.00000000e+00, -8.47856870e-01, -6.55694692e-01,\n",
              "         1.25198532e+00],\n",
              "       [ 1.00000000e+00, -3.95803706e-01,  5.02181517e-01,\n",
              "         2.39748172e+00],\n",
              "       [ 1.00000000e+00,  1.11104017e+00,  1.69667041e+00,\n",
              "        -1.25378804e+00],\n",
              "       [ 1.00000000e+00, -7.72514676e-01, -9.41731305e-01,\n",
              "        -9.01357324e-04],\n",
              "       [ 1.00000000e+00, -1.44663060e-01,  3.44289307e-01,\n",
              "        -1.79885169e-01],\n",
              "       [ 1.00000000e+00, -9.73427194e-01, -3.55673153e-02,\n",
              "         1.57415618e+00],\n",
              "       [ 1.00000000e+00,  6.08758880e-01,  5.98289819e-01,\n",
              "        -1.25378804e+00],\n",
              "       [ 1.00000000e+00, -9.73427194e-01, -1.16255157e+00,\n",
              "         7.06921673e-02],\n",
              "       [ 1.00000000e+00, -4.46031836e-01, -5.50433219e-01,\n",
              "        -1.44088407e-01],\n",
              "       [ 1.00000000e+00,  9.85469851e-01,  1.02848889e+00,\n",
              "        -1.07480423e+00],\n",
              "       [ 1.00000000e+00, -8.47856870e-01, -4.76063699e-01,\n",
              "        -6.81039841e-01],\n",
              "       [ 1.00000000e+00, -3.95803706e-01, -8.20451781e-01,\n",
              "        -9.01357324e-04],\n",
              "       [ 1.00000000e+00, -9.23199064e-01, -9.73767406e-01,\n",
              "        -2.87275456e-01],\n",
              "       [ 1.00000000e+00, -2.70233383e-01, -6.93451525e-01,\n",
              "         7.15033889e-01],\n",
              "       [ 1.00000000e+00,  1.23661050e+00,  1.57767918e+00,\n",
              "        -2.15681931e-01],\n",
              "       [ 1.00000000e+00, -3.95803706e-01, -3.55928322e-01,\n",
              "         1.78082454e-01],\n",
              "       [ 1.00000000e+00, -1.02365532e+00, -9.96650335e-01,\n",
              "         8.58220938e-01],\n",
              "       [ 1.00000000e+00, -2.70233383e-01, -4.81784432e-01,\n",
              "        -4.66259267e-01],\n",
              "       [ 1.00000000e+00, -1.94891189e-01, -4.12880475e-02,\n",
              "        -3.58868980e-01],\n",
              "       [ 1.00000000e+00, -9.73427194e-01, -1.17971377e+00,\n",
              "         1.25198532e+00],\n",
              "       [ 1.00000000e+00, -5.96716224e-01, -2.98720999e-01,\n",
              "         1.39517237e+00],\n",
              "       [ 1.00000000e+00, -9.48313129e-01, -1.07101985e+00,\n",
              "         1.07300151e+00],\n",
              "       [ 1.00000000e+00, -5.46488094e-01, -7.84983241e-01,\n",
              "        -1.39697509e+00],\n",
              "       [ 1.00000000e+00, -1.90927363e-02, -2.70117338e-01,\n",
              "         4.28659790e-01],\n",
              "       [ 1.00000000e+00, -4.96259965e-01, -6.70568596e-01,\n",
              "         1.78082454e-01]])"
            ]
          },
          "metadata": {},
          "execution_count": 74
        }
      ]
    }
  ]
}